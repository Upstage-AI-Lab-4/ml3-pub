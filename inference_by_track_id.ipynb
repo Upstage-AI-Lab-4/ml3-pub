{
 "cells": [
  {
   "cell_type": "code",
   "execution_count": 1,
   "metadata": {},
   "outputs": [],
   "source": [
    "# General libraries\n",
    "import pandas as pd\n",
    "import numpy as np\n",
    "import seaborn as sns\n",
    "import warnings\n",
    "import matplotlib.pyplot as plt\n",
    "import altair as alt\n",
    "import random\n",
    "\n",
    "# Metrics libraries\n",
    "from sklearn import metrics\n",
    "from sklearn.metrics.pairwise import cosine_similarity\n",
    "from scipy.spatial.distance import euclidean\n",
    "from sklearn.metrics import silhouette_score\n",
    "from sklearn.metrics import calinski_harabasz_score\n",
    "from sklearn.neighbors import NearestNeighbors\n",
    "\n",
    "# Clustering libraries\n",
    "from sklearn.cluster import KMeans\n",
    "from sklearn.cluster import DBSCAN\n",
    "\n",
    "# Data procressing libraries\n",
    "from sklearn.decomposition import PCA\n",
    "from sklearn.preprocessing import StandardScaler, MinMaxScaler\n",
    "from sklearn.preprocessing import LabelEncoder\n",
    "from sklearn.manifold import TSNE\n",
    "\n",
    "from sklearn.model_selection import train_test_split\n",
    "\n",
    "alt.renderers.enable('kaggle')\n",
    "warnings.simplefilter(\"ignore\")\n"
   ]
  },
  {
   "cell_type": "code",
   "execution_count": 2,
   "metadata": {},
   "outputs": [],
   "source": [
    "# Read Dataset\n",
    "data = pd.read_csv(\"final_dataset.csv\")"
   ]
  },
  {
   "cell_type": "code",
   "execution_count": 3,
   "metadata": {},
   "outputs": [],
   "source": [
    "# Drop unnecessary 'target' column\n",
    "data.drop('mode', axis=1, inplace=True)\n",
    "# data.drop('track_id', axis=1, inplace=True)\n",
    "# data.drop('album_id', axis=1, inplace=True)\n",
    "# data.drop('artist_id', axis=1, inplace=True)"
   ]
  },
  {
   "cell_type": "code",
   "execution_count": 4,
   "metadata": {},
   "outputs": [
    {
     "name": "stdout",
     "output_type": "stream",
     "text": [
      "Categorical columns:  ['track_name', 'track_id', 'album_name', 'album_id', 'artist_name', 'artist_id', 'release_date']\n",
      "Numeric columns:  ['artist_popularity', 'track_popularity', 'danceability', 'energy', 'key', 'loudness', 'speechiness', 'acousticness', 'instrumentalness', 'liveness', 'valence', 'tempo', 'duration_ms', 'energy_danceability', 'acoustic_instrumental_diff', 'mood_index']\n"
     ]
    }
   ],
   "source": [
    "# Categorical data\n",
    "categorical_data = data.select_dtypes(include=['object'])\n",
    "print(\"Categorical columns: \", categorical_data.columns.tolist())\n",
    "\n",
    "# Numeric data\n",
    "numeric_data = data.select_dtypes(include=['int64', 'float64'])\n",
    "print(\"Numeric columns: \", numeric_data.columns.tolist())\n"
   ]
  },
  {
   "cell_type": "code",
   "execution_count": 5,
   "metadata": {},
   "outputs": [
    {
     "data": {
      "text/plain": [
       "Index(['track_name', 'track_id', 'album_name', 'album_id', 'artist_name',\n",
       "       'artist_id', 'artist_popularity', 'track_popularity', 'release_date',\n",
       "       'danceability', 'energy', 'key', 'loudness', 'speechiness',\n",
       "       'acousticness', 'instrumentalness', 'liveness', 'valence', 'tempo',\n",
       "       'duration_ms', 'energy_danceability', 'acoustic_instrumental_diff',\n",
       "       'mood_index', 'energy_loudness_ratio'],\n",
       "      dtype='object')"
      ]
     },
     "execution_count": 5,
     "metadata": {},
     "output_type": "execute_result"
    }
   ],
   "source": [
    "# Create new attributes\n",
    "data['energy_loudness_ratio'] = data['energy'] / data['loudness']\n",
    "# Append the new features to numeric_data\n",
    "numeric_data = pd.concat([numeric_data, data[['energy_loudness_ratio']]], axis=1)\n",
    "\n",
    "data.columns"
   ]
  },
  {
   "cell_type": "code",
   "execution_count": 6,
   "metadata": {},
   "outputs": [],
   "source": [
    "# Continuous Columns\n",
    "continuous_cols = ['artist_popularity', 'track_popularity', 'danceability', 'energy',\n",
    "       'loudness', 'speechiness', 'acousticness', 'instrumentalness',\n",
    "       'liveness', 'valence', 'tempo', 'duration_ms', 'energy_danceability',\n",
    "       'acoustic_instrumental_diff', 'mood_index', 'energy_loudness_ratio']\n",
    "# Discrete Columns\n",
    "discrete_cols = ['key']"
   ]
  },
  {
   "cell_type": "code",
   "execution_count": 7,
   "metadata": {},
   "outputs": [
    {
     "name": "stdout",
     "output_type": "stream",
     "text": [
      "Index(['track_name', 'track_id', 'album_name', 'album_id', 'artist_name',\n",
      "       'artist_id', 'artist_popularity', 'track_popularity', 'release_date',\n",
      "       'danceability', 'energy', 'loudness', 'speechiness', 'acousticness',\n",
      "       'instrumentalness', 'liveness', 'valence', 'tempo', 'duration_ms',\n",
      "       'energy_danceability', 'acoustic_instrumental_diff', 'mood_index',\n",
      "       'energy_loudness_ratio', 'key_1.0', 'key_2.0', 'key_3.0', 'key_4.0',\n",
      "       'key_5.0', 'key_6.0', 'key_7.0', 'key_8.0', 'key_9.0', 'key_10.0',\n",
      "       'key_11.0'],\n",
      "      dtype='object')\n"
     ]
    }
   ],
   "source": [
    "# Perform one-hot encoding\n",
    "one_hot_encoded_data = pd.get_dummies(data, columns=discrete_cols, drop_first=True)\n",
    "data = pd.concat([data.drop(columns=discrete_cols), one_hot_encoded_data], axis=1)\n",
    "\n",
    "# Check for duplicate columns\n",
    "duplicate_columns = data.columns[data.columns.duplicated()]\n",
    "\n",
    "# Drop duplicate columns\n",
    "data = data.loc[:, ~data.columns.duplicated()]\n",
    "\n",
    "data = data.dropna()\n",
    "\n",
    "# Numeric Data\n",
    "numeric_data = data.select_dtypes(include=[np.number])\n",
    "\n",
    "numeric_data.columns\n",
    "\n",
    "# Print the DataFrame after dropping duplicate columns\n",
    "print(data.columns)"
   ]
  },
  {
   "cell_type": "code",
   "execution_count": 9,
   "metadata": {},
   "outputs": [],
   "source": [
    "# MinMaxScaler 객체 생성\n",
    "# 데이터의 값을 0과 1 사이로 스케일링 수행\n",
    "scaler = MinMaxScaler()\n",
    "# 연속형 변수에 스케일링 적용\n",
    "scaled_features = scaler.fit_transform(numeric_data[continuous_cols])\n",
    "\n",
    "# 스케일링된 연속형 변수로 새로운 데이터프레임 생성\n",
    "data[continuous_cols] = pd.DataFrame(scaled_features, columns=data[continuous_cols].columns)"
   ]
  },
  {
   "cell_type": "code",
   "execution_count": 10,
   "metadata": {},
   "outputs": [
    {
     "data": {
      "text/plain": [
       "Index(['track_name', 'track_id', 'album_name', 'album_id', 'artist_name',\n",
       "       'artist_id', 'artist_popularity', 'track_popularity', 'release_date',\n",
       "       'danceability', 'energy', 'loudness', 'speechiness', 'acousticness',\n",
       "       'instrumentalness', 'liveness', 'valence', 'tempo', 'duration_ms',\n",
       "       'energy_danceability', 'acoustic_instrumental_diff', 'mood_index',\n",
       "       'energy_loudness_ratio', 'key_1.0', 'key_2.0', 'key_3.0', 'key_4.0',\n",
       "       'key_5.0', 'key_6.0', 'key_7.0', 'key_8.0', 'key_9.0', 'key_10.0',\n",
       "       'key_11.0'],\n",
       "      dtype='object')"
      ]
     },
     "execution_count": 10,
     "metadata": {},
     "output_type": "execute_result"
    }
   ],
   "source": [
    "data.columns"
   ]
  },
  {
   "cell_type": "code",
   "execution_count": 12,
   "metadata": {},
   "outputs": [
    {
     "name": "stdout",
     "output_type": "stream",
     "text": [
      "track_id 컬럼의 고유 값들: ['4OkTLeJWGwSTNa8iSqLxzL' '0ByC7DPj6qJK3FfcpNoWWg'\n",
      " '3ijbZnKjENuSizMVny9mkm' ... '0bPWgbmEYjTFuZpC1zZZpN'\n",
      " '3RU6Ylhg9JmYtzSASm7vAJ' '5nk7jPeoSEpm8MxEemcQUf']\n",
      "총 27355개의 track_id가 존재합니다.\n"
     ]
    }
   ],
   "source": [
    "# track_id 컬럼의 고유 값 출력\n",
    "track_ids = data['track_id'].unique()\n",
    "\n",
    "# track_id 컬럼의 값 출력\n",
    "print(f\"track_id 컬럼의 고유 값들: {track_ids}\")\n",
    "print(f\"총 {len(track_ids)}개의 track_id가 존재합니다.\")"
   ]
  },
  {
   "cell_type": "code",
   "execution_count": 14,
   "metadata": {},
   "outputs": [
    {
     "name": "stdout",
     "output_type": "stream",
     "text": [
      "Track ID: 4OkTLeJWGwSTNa8iSqLxzL, Track Name: Keyboard Sonata in E Minor, Wq. 49/3, H. 33, \"Wurttemberg Sonata No. 3\": I. Allegro\n",
      "\u001b[1m1/1\u001b[0m \u001b[32m━━━━━━━━━━━━━━━━━━━━\u001b[0m\u001b[37m\u001b[0m \u001b[1m0s\u001b[0m 269ms/step\n",
      "\u001b[1m861/861\u001b[0m \u001b[32m━━━━━━━━━━━━━━━━━━━━\u001b[0m\u001b[37m\u001b[0m \u001b[1m7s\u001b[0m 8ms/step\n",
      "\n",
      "Top 10 similar songs based on Cosine Similarity:\n",
      "Track ID: 3dTz4jd3DGuqGLQyPtGyEE, Track Name: DAUM\n",
      "Track ID: 2zAcVe9SPjEps2M087r9P6, Track Name: Diary\n",
      "Track ID: 2qTAE4kS2ea1CYF9ND7tMn, Track Name: Late Autumn\n",
      "Track ID: 7sNPQxJLeBNOQY1pEDZl1K, Track Name: Falling Leaves are Beautiful\n",
      "Track ID: 6YqsIERz8ZznclqMyhNRiu, Track Name: Sugar Plum Fairy Introlude - Acapella\n",
      "Track ID: 0VeBp2T7wETkwVyGs6v8pW, Track Name: Joy to the World - Flava Mix\n",
      "Track ID: 0AOazPAzLjmnQAwspzFqtZ, Track Name: Joy to the World - Celebration Mix\n",
      "Track ID: 4I5Hn34v6foGP3ta9Xx0rN, Track Name: All I Want for Christmas Is You - Mariah's New Dance Mix Extended 2009\n",
      "Track ID: 40u3Iw7h7JAkonYNCVe46M, Track Name: Santa Claus Is Comin' to Town - Anniversary Mix\n",
      "Track ID: 5nk7jPeoSEpm8MxEemcQUf, Track Name: On the Edge\n"
     ]
    },
    {
     "data": {
      "text/html": [
       "<div>\n",
       "<style scoped>\n",
       "    .dataframe tbody tr th:only-of-type {\n",
       "        vertical-align: middle;\n",
       "    }\n",
       "\n",
       "    .dataframe tbody tr th {\n",
       "        vertical-align: top;\n",
       "    }\n",
       "\n",
       "    .dataframe thead th {\n",
       "        text-align: right;\n",
       "    }\n",
       "</style>\n",
       "<table border=\"1\" class=\"dataframe\">\n",
       "  <thead>\n",
       "    <tr style=\"text-align: right;\">\n",
       "      <th></th>\n",
       "      <th>track_id</th>\n",
       "      <th>track_name</th>\n",
       "    </tr>\n",
       "  </thead>\n",
       "  <tbody>\n",
       "    <tr>\n",
       "      <th>10473</th>\n",
       "      <td>3dTz4jd3DGuqGLQyPtGyEE</td>\n",
       "      <td>DAUM</td>\n",
       "    </tr>\n",
       "    <tr>\n",
       "      <th>10472</th>\n",
       "      <td>2zAcVe9SPjEps2M087r9P6</td>\n",
       "      <td>Diary</td>\n",
       "    </tr>\n",
       "    <tr>\n",
       "      <th>10471</th>\n",
       "      <td>2qTAE4kS2ea1CYF9ND7tMn</td>\n",
       "      <td>Late Autumn</td>\n",
       "    </tr>\n",
       "    <tr>\n",
       "      <th>10470</th>\n",
       "      <td>7sNPQxJLeBNOQY1pEDZl1K</td>\n",
       "      <td>Falling Leaves are Beautiful</td>\n",
       "    </tr>\n",
       "    <tr>\n",
       "      <th>10469</th>\n",
       "      <td>6YqsIERz8ZznclqMyhNRiu</td>\n",
       "      <td>Sugar Plum Fairy Introlude - Acapella</td>\n",
       "    </tr>\n",
       "    <tr>\n",
       "      <th>10468</th>\n",
       "      <td>0VeBp2T7wETkwVyGs6v8pW</td>\n",
       "      <td>Joy to the World - Flava Mix</td>\n",
       "    </tr>\n",
       "    <tr>\n",
       "      <th>10467</th>\n",
       "      <td>0AOazPAzLjmnQAwspzFqtZ</td>\n",
       "      <td>Joy to the World - Celebration Mix</td>\n",
       "    </tr>\n",
       "    <tr>\n",
       "      <th>10466</th>\n",
       "      <td>4I5Hn34v6foGP3ta9Xx0rN</td>\n",
       "      <td>All I Want for Christmas Is You - Mariah's New...</td>\n",
       "    </tr>\n",
       "    <tr>\n",
       "      <th>10464</th>\n",
       "      <td>40u3Iw7h7JAkonYNCVe46M</td>\n",
       "      <td>Santa Claus Is Comin' to Town - Anniversary Mix</td>\n",
       "    </tr>\n",
       "    <tr>\n",
       "      <th>28940</th>\n",
       "      <td>5nk7jPeoSEpm8MxEemcQUf</td>\n",
       "      <td>On the Edge</td>\n",
       "    </tr>\n",
       "  </tbody>\n",
       "</table>\n",
       "</div>"
      ],
      "text/plain": [
       "                     track_id  \\\n",
       "10473  3dTz4jd3DGuqGLQyPtGyEE   \n",
       "10472  2zAcVe9SPjEps2M087r9P6   \n",
       "10471  2qTAE4kS2ea1CYF9ND7tMn   \n",
       "10470  7sNPQxJLeBNOQY1pEDZl1K   \n",
       "10469  6YqsIERz8ZznclqMyhNRiu   \n",
       "10468  0VeBp2T7wETkwVyGs6v8pW   \n",
       "10467  0AOazPAzLjmnQAwspzFqtZ   \n",
       "10466  4I5Hn34v6foGP3ta9Xx0rN   \n",
       "10464  40u3Iw7h7JAkonYNCVe46M   \n",
       "28940  5nk7jPeoSEpm8MxEemcQUf   \n",
       "\n",
       "                                              track_name  \n",
       "10473                                               DAUM  \n",
       "10472                                              Diary  \n",
       "10471                                        Late Autumn  \n",
       "10470                       Falling Leaves are Beautiful  \n",
       "10469              Sugar Plum Fairy Introlude - Acapella  \n",
       "10468                       Joy to the World - Flava Mix  \n",
       "10467                 Joy to the World - Celebration Mix  \n",
       "10466  All I Want for Christmas Is You - Mariah's New...  \n",
       "10464    Santa Claus Is Comin' to Town - Anniversary Mix  \n",
       "28940                                        On the Edge  "
      ]
     },
     "execution_count": 14,
     "metadata": {},
     "output_type": "execute_result"
    }
   ],
   "source": [
    "import numpy as np\n",
    "import joblib\n",
    "from tensorflow.keras.models import load_model\n",
    "from sklearn.metrics.pairwise import cosine_similarity\n",
    "\n",
    "# 모델을 로드하는 함수\n",
    "def load_models(encoder_path, kmeans_path):\n",
    "    # Autoencoder 모델 로드 (컴파일 옵션 제외)\n",
    "    autoencoder_model = load_model(encoder_path, compile=False)\n",
    "    \n",
    "    # KMeans 모델 로드\n",
    "    kmeans_model = joblib.load(kmeans_path)\n",
    "    \n",
    "    return autoencoder_model, kmeans_model\n",
    "\n",
    "# track_id로 노래 추천을 위한 함수\n",
    "def recommend_songs_by_track_id(input_track_id, data, numeric_data, top_n=10):\n",
    "    # 입력된 track_id에 해당하는 노래의 벡터를 가져옴\n",
    "    input_song_vector = numeric_data[data['track_id'] == input_track_id]\n",
    "    \n",
    "    if input_song_vector.shape[0] == 0:\n",
    "        print(f\"No song found with track_id '{input_track_id}'\")\n",
    "        return []\n",
    "    \n",
    "    # track_id에 해당하는 track_name 출력\n",
    "    input_track_name = data[data['track_id'] == input_track_id]['track_name'].values[0]\n",
    "    print(f\"Track ID: {input_track_id}, Track Name: {input_track_name}\")\n",
    "    \n",
    "    # 차원 축소\n",
    "    encoded_input_song = encoder_model.predict(input_song_vector)\n",
    "    \n",
    "    # 전체 데이터에 대해 인코딩된 벡터 생성\n",
    "    encoded_data = encoder_model.predict(numeric_data)\n",
    "    \n",
    "    # 코사인 유사도 계산\n",
    "    similarities = cosine_similarity(encoded_input_song, encoded_data)\n",
    "    \n",
    "    # 유사도가 높은 순서대로 상위 top_n 추천\n",
    "    top_n_indices = np.argsort(similarities[0])[-top_n:]\n",
    "    \n",
    "    # 관련도 높은 track_id와 track_name 출력\n",
    "    recommended_tracks = data[['track_id', 'track_name']].iloc[top_n_indices]\n",
    "    \n",
    "    print(f\"\\nTop {top_n} similar songs based on Cosine Similarity:\")\n",
    "    for idx, row in recommended_tracks.iterrows():\n",
    "        print(f\"Track ID: {row['track_id']}, Track Name: {row['track_name']}\")\n",
    "    \n",
    "    return recommended_tracks\n",
    "\n",
    "# 모델 로드 (저장된 Autoencoder 모델과 KMeans 모델)\n",
    "encoder_model, kmeans_model = load_models(\n",
    "    \"./weight_5/autoencoder_model_dims_2048_1024_512_256_128_64_32_16_8_4.keras\",  # 저장된 Autoencoder 모델 경로\n",
    "    \"./weight_5/kmeans_model_clusters_15_dims_2048_1024_512_256_128_64_32_16_8_4.pkl\"  # 저장된 KMeans 모델 경로\n",
    ")\n",
    "\n",
    "# track_id를 입력받아 추천\n",
    "input_track_id = '4OkTLeJWGwSTNa8iSqLxzL'  # 예시 track_id를 입력\n",
    "recommend_songs_by_track_id(input_track_id, data, numeric_data, top_n=10)"
   ]
  },
  {
   "cell_type": "code",
   "execution_count": null,
   "metadata": {},
   "outputs": [],
   "source": []
  }
 ],
 "metadata": {
  "kernelspec": {
   "display_name": ".venv",
   "language": "python",
   "name": "python3"
  },
  "language_info": {
   "codemirror_mode": {
    "name": "ipython",
    "version": 3
   },
   "file_extension": ".py",
   "mimetype": "text/x-python",
   "name": "python",
   "nbconvert_exporter": "python",
   "pygments_lexer": "ipython3",
   "version": "3.12.5"
  }
 },
 "nbformat": 4,
 "nbformat_minor": 2
}
